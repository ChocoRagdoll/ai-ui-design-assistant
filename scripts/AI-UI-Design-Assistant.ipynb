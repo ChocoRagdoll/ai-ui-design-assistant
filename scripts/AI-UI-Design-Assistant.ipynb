{
 "cells": [
  {
   "cell_type": "markdown",
   "id": "5e1e2be4",
   "metadata": {},
   "source": [
    "# AI UI Design Assistant"
   ]
  },
  {
   "cell_type": "markdown",
   "id": "e9a57030",
   "metadata": {},
   "source": [
    "## Steps to set up on Google Colab"
   ]
  },
  {
   "cell_type": "markdown",
   "id": "4d7b202d",
   "metadata": {},
   "source": [
    "1. Create a New Colab Notebook:\n",
    "   \n",
    "   Go to Google Colab.\n",
    "   \n",
    "   Click on File > New Notebook to start a new notebook.\n",
    "   \n",
    "   Can upload this directly to your Google Colab."
   ]
  },
  {
   "cell_type": "markdown",
   "id": "de6523f9",
   "metadata": {},
   "source": [
    "2. Install Required Libraries: \n",
    "   \n",
    "   Run the following command to install transformers and other required Hugging Face libraries:"
   ]
  },
  {
   "cell_type": "code",
   "execution_count": null,
   "id": "c98b3095",
   "metadata": {},
   "outputs": [],
   "source": [
    "!pip install transformers datasets huggingface_hub"
   ]
  },
  {
   "cell_type": "markdown",
   "id": "a0080af7",
   "metadata": {},
   "source": [
    "3. Mount Google Drive (Optional): \n",
    "\n",
    "   If you want to store the model and data on Google Drive:"
   ]
  },
  {
   "cell_type": "code",
   "execution_count": null,
   "id": "b4455476",
   "metadata": {},
   "outputs": [],
   "source": [
    "from google.colab import drive\n",
    "\n",
    "drive.mount('/content/drive')\n"
   ]
  },
  {
   "cell_type": "markdown",
   "id": "a709ed41",
   "metadata": {},
   "source": [
    "4. Load the LLaMA 3.1-8B Instruct Model: \n",
    "\n",
    "   You can load the model directly from Hugging Face:"
   ]
  },
  {
   "cell_type": "code",
   "execution_count": null,
   "id": "f0c46df5",
   "metadata": {},
   "outputs": [],
   "source": [
    "from transformers import AutoTokenizer, AutoModelForCausalLM\n",
    "\n",
    "# Load the model from Hugging Face\n",
    "tokenizer = AutoTokenizer.from_pretrained('meta-llama/llama-3.1-8b-instruct')\n",
    "model = AutoModelForCausalLM.from_pretrained('meta-llama/llama-3.1-8b-instruct')\n"
   ]
  },
  {
   "cell_type": "markdown",
   "id": "233b758b",
   "metadata": {},
   "source": [
    "5. Prepare for Fine-tuning: \n",
    "\n",
    "   You can then set up the fine-tuning process using Hugging Face’s `Trainer` API or another library."
   ]
  },
  {
   "cell_type": "code",
   "execution_count": null,
   "id": "d6078994",
   "metadata": {},
   "outputs": [],
   "source": [
    "#Code for setting up the fine-tuning process\n",
    "\n"
   ]
  },
  {
   "cell_type": "markdown",
   "id": "df408a50",
   "metadata": {},
   "source": [
    "6. Use Mixed Precision (FP16) to Save GPU Memory: \n",
    "   \n",
    "   Since Google Colab provides limited GPU resources, you can use mixed precision (FP16) to reduce memory usage:"
   ]
  },
  {
   "cell_type": "code",
   "execution_count": null,
   "id": "55b2a897",
   "metadata": {},
   "outputs": [],
   "source": [
    "from transformers import TrainingArguments, Trainer\n",
    "\n",
    "training_args = TrainingArguments(\n",
    "    output_dir='./results',\n",
    "    per_device_train_batch_size=4,\n",
    "    evaluation_strategy=\"epoch\",\n",
    "    learning_rate=2e-5,\n",
    "    weight_decay=0.01,\n",
    "    fp16=True,  # Use mixed precision to save memory\n",
    "    num_train_epochs=3,\n",
    ")\n"
   ]
  },
  {
   "cell_type": "markdown",
   "id": "c0e319c1",
   "metadata": {},
   "source": [
    "7. Run the Training: \n",
    "\n",
    "   Fine-tune the model on your dataset:"
   ]
  },
  {
   "cell_type": "code",
   "execution_count": null,
   "id": "caf41492",
   "metadata": {},
   "outputs": [],
   "source": [
    "trainer = Trainer(\n",
    "    model=model,\n",
    "    args=training_args,\n",
    "    train_dataset=train_dataset,\n",
    "    eval_dataset=eval_dataset,\n",
    ")\n",
    "\n",
    "trainer.train()\n"
   ]
  },
  {
   "cell_type": "markdown",
   "id": "2d02910a",
   "metadata": {},
   "source": [
    "## Steps to set up locally"
   ]
  },
  {
   "cell_type": "markdown",
   "id": "61550d08",
   "metadata": {},
   "source": [
    "1. Install Additional Dependencies: \n",
    "    \n",
    "   You’ll need to install the transformers library and any other dependencies:"
   ]
  },
  {
   "cell_type": "code",
   "execution_count": null,
   "id": "586abf0d",
   "metadata": {},
   "outputs": [],
   "source": [
    "pip install transformers datasets huggingface_hub"
   ]
  },
  {
   "cell_type": "markdown",
   "id": "7c392b1d",
   "metadata": {},
   "source": [
    "2. Install GPU Drivers and CUDA (since we are using a GPU): \n",
    "   \n",
    "   Ensure your machine has the necessary CUDA and NVIDIA drivers installed. You can check if your GPU is being recognized by running:"
   ]
  },
  {
   "cell_type": "code",
   "execution_count": null,
   "id": "49588d7a",
   "metadata": {},
   "outputs": [],
   "source": [
    "nvidia-smi"
   ]
  },
  {
   "cell_type": "markdown",
   "id": "b50e6c97",
   "metadata": {},
   "source": [
    "3. Load the Model: \n",
    "\n",
    "   Use the Hugging Face API to load the model locally:"
   ]
  },
  {
   "cell_type": "code",
   "execution_count": null,
   "id": "1be20ce8",
   "metadata": {},
   "outputs": [],
   "source": [
    "from transformers import AutoTokenizer, AutoModelForCausalLM\n",
    "\n",
    "# Load tokenizer and model\n",
    "tokenizer = AutoTokenizer.from_pretrained('meta-llama/llama-3.1-8b-instruct')\n",
    "model = AutoModelForCausalLM.from_pretrained('meta-llama/llama-3.1-8b-instruct')\n"
   ]
  },
  {
   "cell_type": "markdown",
   "id": "671d57fe",
   "metadata": {},
   "source": [
    "4. Prepare for Fine-tuning: \n",
    "\n",
    "   You can then set up the fine-tuning process using Hugging Face’s `Trainer` API or another library."
   ]
  },
  {
   "cell_type": "code",
   "execution_count": null,
   "id": "b6dba662",
   "metadata": {},
   "outputs": [],
   "source": [
    "#Code for setting up the fine-tuning process\n",
    "\n"
   ]
  },
  {
   "cell_type": "markdown",
   "id": "99eb22f2",
   "metadata": {},
   "source": [
    "5. Optimization for Local Machines\n",
    "   \n",
    "   In this step, we can enable optimizations to handle the model on a local machine with constrained resources. \n",
    "   \n",
    "   We can use FP16 mixed precision and gradient checkpointing to reduce GPU memory usage."
   ]
  },
  {
   "cell_type": "code",
   "execution_count": null,
   "id": "5766c677",
   "metadata": {},
   "outputs": [],
   "source": [
    "# Enable gradient checkpointing to save memory\n",
    "model.gradient_checkpointing_enable()\n",
    "\n",
    "# Training arguments with mixed precision (FP16) to save GPU memory\n",
    "training_args = TrainingArguments(\n",
    "    output_dir='./results',          # Output directory\n",
    "    per_device_train_batch_size=4,   # Lower batch size to avoid out-of-memory issues\n",
    "    evaluation_strategy=\"epoch\",     # Evaluate at the end of each epoch\n",
    "    learning_rate=2e-5,              # Learning rate\n",
    "    weight_decay=0.01,               # Weight decay to regularize\n",
    "    fp16=True,                       # Enable mixed precision (FP16)\n",
    "    num_train_epochs=3,              # Number of training epochs\n",
    "    logging_dir='./logs',            # Directory for logs\n",
    "    save_total_limit=2,              # Limit the number of saved checkpoints\n",
    "    save_steps=1000,                 # Save every 1000 steps\n",
    "    logging_steps=100,               # Log every 100 steps\n",
    ")\n"
   ]
  },
  {
   "cell_type": "markdown",
   "id": "90224a1b",
   "metadata": {},
   "source": [
    "6. Running the Training\n",
    "   \n",
    "   Once the optimizations are set, you can fine-tune the model using Hugging Face’s Trainer API. \n",
    "   \n",
    "   You’ll need to specify your dataset, tokenize it, and run the training."
   ]
  },
  {
   "cell_type": "code",
   "execution_count": null,
   "id": "afc36028",
   "metadata": {},
   "outputs": [],
   "source": [
    "from datasets import load_dataset\n",
    "\n",
    "# Load a dataset (replace 'wikitext' with your own dataset)\n",
    "dataset = load_dataset(\"wikitext\", \"wikitext-2-raw-v1\")\n",
    "\n",
    "# Tokenize the dataset\n",
    "def tokenize_function(examples):\n",
    "    return tokenizer(examples[\"text\"], truncation=True, padding=\"max_length\", max_length=128)\n",
    "\n",
    "tokenized_dataset = dataset.map(tokenize_function, batched=True)\n",
    "\n",
    "# Define Trainer\n",
    "trainer = Trainer(\n",
    "    model=model,                      # The model being fine-tuned\n",
    "    args=training_args,               # Training arguments we defined earlier\n",
    "    train_dataset=tokenized_dataset[\"train\"],  # The tokenized training dataset\n",
    "    eval_dataset=tokenized_dataset[\"validation\"],  # The tokenized validation dataset\n",
    ")\n",
    "\n",
    "# Start training\n",
    "trainer.train()\n"
   ]
  }
 ],
 "metadata": {
  "kernelspec": {
   "display_name": "Python 3 (ipykernel)",
   "language": "python",
   "name": "python3"
  },
  "language_info": {
   "codemirror_mode": {
    "name": "ipython",
    "version": 3
   },
   "file_extension": ".py",
   "mimetype": "text/x-python",
   "name": "python",
   "nbconvert_exporter": "python",
   "pygments_lexer": "ipython3",
   "version": "3.11.4"
  }
 },
 "nbformat": 4,
 "nbformat_minor": 5
}
